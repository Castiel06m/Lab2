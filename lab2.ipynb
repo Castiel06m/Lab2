{
 "cells": [
  {
   "cell_type": "code",
   "execution_count": 2,
   "metadata": {},
   "outputs": [
    {
     "name": "stdout",
     "output_type": "stream",
     "text": [
      "True\n",
      "False\n"
     ]
    }
   ],
   "source": [
    "#Boolean\n",
    "\n",
    "print(100 > 25)\n",
    "print(len(\"Hello\") == len(\"World!\"))"
   ]
  },
  {
   "cell_type": "code",
   "execution_count": 5,
   "metadata": {},
   "outputs": [
    {
     "name": "stdout",
     "output_type": "stream",
     "text": [
      "second number is less than the first one\n"
     ]
    }
   ],
   "source": [
    "num1 = int(input())\n",
    "num2 = int(input())\n",
    "\n",
    "if num1 < num2:\n",
    "    print(\"first number is less than the second one\")\n",
    "else:\n",
    "    print(\"second number is less than the first one\")"
   ]
  },
  {
   "cell_type": "code",
   "execution_count": 6,
   "metadata": {},
   "outputs": [
    {
     "name": "stdout",
     "output_type": "stream",
     "text": [
      "True\n",
      "False\n"
     ]
    }
   ],
   "source": [
    "#Lists, tuples are all true, except the empty ones\n",
    "\n",
    "a = ('apple', 'banana', 'watermelon')\n",
    "print(bool(a))\n",
    "b = ()\n",
    "print(bool(b))"
   ]
  },
  {
   "cell_type": "code",
   "execution_count": 7,
   "metadata": {},
   "outputs": [
    {
     "name": "stdout",
     "output_type": "stream",
     "text": [
      "False\n"
     ]
    }
   ],
   "source": [
    "#Function\n",
    "\n",
    "def funcforbool(a,b):\n",
    "    if a > b:\n",
    "        return True\n",
    "    else:\n",
    "        return False\n",
    "    \n",
    "a = 41\n",
    "b = 122\n",
    "print(funcforbool(a,b))"
   ]
  },
  {
   "cell_type": "code",
   "execution_count": 4,
   "metadata": {},
   "outputs": [
    {
     "name": "stdout",
     "output_type": "stream",
     "text": [
      "34\n"
     ]
    }
   ],
   "source": [
    "#Operators\n",
    "\n",
    "a = int(input())\n",
    "someoperator = input()\n",
    "b = int(input())\n",
    "\n",
    "if someoperator == \"+\":\n",
    "    print(a+b)\n",
    "elif someoperator == \"-\":\n",
    "    print(a-b)\n",
    "elif someoperator == \"*\":\n",
    "    print(a**b)\n",
    "elif someoperator == \"/\":\n",
    "    print(a // b)\n",
    "\n"
   ]
  },
  {
   "cell_type": "code",
   "execution_count": 8,
   "metadata": {},
   "outputs": [
    {
     "name": "stdout",
     "output_type": "stream",
     "text": [
      "321\n"
     ]
    }
   ],
   "source": [
    "a = 121\n",
    "\n",
    "a+=200\n",
    "\n",
    "print(a)\n"
   ]
  },
  {
   "cell_type": "code",
   "execution_count": 9,
   "metadata": {},
   "outputs": [
    {
     "name": "stdout",
     "output_type": "stream",
     "text": [
      "['phone', 'laptop', 'computer', 'TV']\n",
      "4\n",
      "True\n",
      "<class 'list'>\n"
     ]
    }
   ],
   "source": [
    "#Lists\n",
    "\n",
    "mylist = ['phone', 'laptop', 'computer', 'TV']\n",
    "\n",
    "print(mylist)\n",
    "print(len(mylist))\n",
    "print(bool(mylist))\n",
    "print(type(mylist))\n"
   ]
  },
  {
   "cell_type": "code",
   "execution_count": 10,
   "metadata": {},
   "outputs": [
    {
     "name": "stdout",
     "output_type": "stream",
     "text": [
      "soda\n"
     ]
    }
   ],
   "source": [
    "anotherlist = ['cola', 'pepsi', 'drpepper', 'soda']\n",
    "                #0       #1        #2         #3\n",
    "print(anotherlist[3])    # indexes starts from 0\n"
   ]
  },
  {
   "cell_type": "code",
   "execution_count": 13,
   "metadata": {},
   "outputs": [
    {
     "name": "stdout",
     "output_type": "stream",
     "text": [
      "mango\n",
      "kiwi\n",
      "['cherry', 'orange', 'kiwi']\n"
     ]
    }
   ],
   "source": [
    "thislist = [\"apple\", \"banana\", \"cherry\", \"orange\", \"kiwi\", \"melon\", \"mango\"]\n",
    "print(thislist[-1])     #starts from the end of the list\n",
    "print(thislist[-3])\n",
    "\n",
    "print(thislist[2:5])    #starting from the 2nd index and ending at the 5fth one (not included) the last element is not included"
   ]
  },
  {
   "cell_type": "code",
   "execution_count": 15,
   "metadata": {},
   "outputs": [
    {
     "name": "stdout",
     "output_type": "stream",
     "text": [
      "['cat', 'dog', 'monkey']\n",
      "['racoon', 'cat', 'dog', 'monkey']\n"
     ]
    }
   ],
   "source": [
    "testlist = ['cat', 'dog', 'monkey']\n",
    "\n",
    "print(testlist)\n",
    "\n",
    "testlist.insert(0, 'racoon')  # adding a new element to a specific index\n",
    "\n",
    "print(testlist)"
   ]
  },
  {
   "cell_type": "code",
   "execution_count": 16,
   "metadata": {},
   "outputs": [
    {
     "name": "stdout",
     "output_type": "stream",
     "text": [
      "['elephant', 'racoon', 'cat', 'wolf', 'dog']\n"
     ]
    }
   ],
   "source": [
    "animals = ['elephant', 'racoon', 'cat', 'wolf']\n",
    "animals.append('dog')   #adding exactly at the end of the list\n",
    "print(animals)"
   ]
  },
  {
   "cell_type": "code",
   "execution_count": 17,
   "metadata": {},
   "outputs": [
    {
     "name": "stdout",
     "output_type": "stream",
     "text": [
      "['elephant', 'racoon', 'cat', 'wolf', 'hunters', 'students', 'citizens']\n"
     ]
    }
   ],
   "source": [
    "animals = ['elephant', 'racoon', 'cat', 'wolf']\n",
    "people = ['hunters', 'students', 'citizens']\n",
    "\n",
    "animals.extend(people) # adding another list \n",
    "\n",
    "print(animals)"
   ]
  },
  {
   "cell_type": "code",
   "execution_count": 18,
   "metadata": {},
   "outputs": [
    {
     "name": "stdout",
     "output_type": "stream",
     "text": [
      "['DaVinci']\n"
     ]
    }
   ],
   "source": [
    "# Removing items \n",
    "\n",
    "a = ['DiCaprio', 'DaVinci', 'Arhimed']\n",
    "a.remove('Arhimed')    # remove exactly the element\n",
    "a.pop(0)    # remove by the index\n",
    "print(a)\n"
   ]
  },
  {
   "cell_type": "code",
   "execution_count": 24,
   "metadata": {},
   "outputs": [
    {
     "name": "stdout",
     "output_type": "stream",
     "text": [
      "['apple', 'watermelon']\n",
      "[]\n"
     ]
    }
   ],
   "source": [
    "a = ['apple', 'banana', 'watermelon']\n",
    "del a[1]    # can also use del to delete by index\n",
    "print(a)\n",
    "\n",
    "\n",
    "a.clear() # clearing entire list\n",
    "print(a)\n",
    "\n"
   ]
  },
  {
   "cell_type": "code",
   "execution_count": 25,
   "metadata": {},
   "outputs": [
    {
     "name": "stdout",
     "output_type": "stream",
     "text": [
      "cat\n",
      "dog\n",
      "frog\n",
      "monkey\n"
     ]
    }
   ],
   "source": [
    "# Loop lists\n",
    "\n",
    "a = ['cat', 'dog', 'frog', 'monkey']\n",
    "\n",
    "for i in a:\n",
    "    print(i)"
   ]
  },
  {
   "cell_type": "code",
   "execution_count": 26,
   "metadata": {},
   "outputs": [
    {
     "name": "stdout",
     "output_type": "stream",
     "text": [
      "cat\n",
      "dog\n",
      "frog\n",
      "monkey\n"
     ]
    }
   ],
   "source": [
    "a = ['cat', 'dog', 'frog', 'monkey']\n",
    "\n",
    "for i in range(len(a)):\n",
    "    print(a[i])"
   ]
  },
  {
   "cell_type": "code",
   "execution_count": 28,
   "metadata": {},
   "outputs": [
    {
     "name": "stdout",
     "output_type": "stream",
     "text": [
      "cat\n",
      "dog\n",
      "frog\n",
      "monkey\n"
     ]
    }
   ],
   "source": [
    "a = ['cat', 'dog', 'frog', 'monkey']\n",
    "\n",
    "i = 0\n",
    "\n",
    "while i < len(a):\n",
    "    print(a[i])\n",
    "    i+=1"
   ]
  },
  {
   "cell_type": "code",
   "execution_count": 30,
   "metadata": {},
   "outputs": [
    {
     "name": "stdout",
     "output_type": "stream",
     "text": [
      "cat\n",
      "dog\n",
      "frog\n",
      "monkey\n"
     ]
    },
    {
     "data": {
      "text/plain": [
       "[None, None, None, None]"
      ]
     },
     "execution_count": 30,
     "metadata": {},
     "output_type": "execute_result"
    }
   ],
   "source": [
    "a = ['cat', 'dog', 'frog', 'monkey']\n",
    "[print(i) for i in a]"
   ]
  },
  {
   "cell_type": "code",
   "execution_count": 32,
   "metadata": {},
   "outputs": [
    {
     "name": "stdout",
     "output_type": "stream",
     "text": [
      "['car', 'track']\n"
     ]
    }
   ],
   "source": [
    "temp = ['car', 'track', 'bike', 'wings']\n",
    "newlist = []\n",
    "\n",
    "for i in temp:\n",
    "    if 'a' in i:\n",
    "        newlist.append(i)\n",
    "\n",
    "print(newlist)"
   ]
  },
  {
   "cell_type": "code",
   "execution_count": 35,
   "metadata": {},
   "outputs": [
    {
     "name": "stdout",
     "output_type": "stream",
     "text": [
      "['car', 'track']\n"
     ]
    }
   ],
   "source": [
    "temp = ['car', 'track', 'bike', 'wings'] \n",
    "\n",
    "newlist = [i for i in temp if 'a' in i]       # simplier version\n",
    "\n",
    "print(newlist)"
   ]
  },
  {
   "cell_type": "code",
   "execution_count": 37,
   "metadata": {},
   "outputs": [
    {
     "name": "stdout",
     "output_type": "stream",
     "text": [
      "['car', 'track', 'bike']\n"
     ]
    }
   ],
   "source": [
    "temp = ['car', 'track', 'bike', 'wings'] \n",
    "\n",
    "newlist = [i for i in temp if i != \"wings\"]\n",
    "\n",
    "print(newlist)"
   ]
  },
  {
   "cell_type": "code",
   "execution_count": 42,
   "metadata": {},
   "outputs": [
    {
     "name": "stdout",
     "output_type": "stream",
     "text": [
      "[0, 1, 2, 3, 4, 5, 6, 7, 8, 9]\n"
     ]
    }
   ],
   "source": [
    "def createlist():\n",
    "    listgen = [i for i in range(10)]\n",
    "    print(listgen)\n",
    "\n",
    "createlist()"
   ]
  },
  {
   "cell_type": "code",
   "execution_count": 46,
   "metadata": {},
   "outputs": [
    {
     "name": "stdout",
     "output_type": "stream",
     "text": [
      "CAR\n",
      "TRACK\n",
      "BIKE\n",
      "WINGS\n"
     ]
    }
   ],
   "source": [
    "temp = ['car', 'track', 'bike', 'wings'] \n",
    "\n",
    "upperlist = [i.upper() for i in temp]\n",
    "\n",
    "for x in upperlist:\n",
    "    print(x)"
   ]
  },
  {
   "cell_type": "code",
   "execution_count": 57,
   "metadata": {},
   "outputs": [
    {
     "name": "stdout",
     "output_type": "stream",
     "text": [
      "[-23, -2, -1, 0, 1, 3, 12, 12, 23, 59, 233, 312, 375]\n",
      "[375, 312, 233, 59, 23, 12, 12, 3, 1, 0, -1, -2, -23]\n",
      "[-23, -2, -1, 0, 1, 3, 12, 12, 23, 59, 233, 312, 375]\n",
      "[-2, 0, 12, 12, 312, -23, -1, 1, 3, 23, 59, 233, 375]\n"
     ]
    }
   ],
   "source": [
    "a = [312, 375, 3, 233, 59, 12, 1, 0, -1, 23, -23, -2, 12]\n",
    "\n",
    "a.sort()\n",
    "print(a)\n",
    "\n",
    "a.sort(reverse = True)\n",
    "print(a)\n",
    "\n",
    "a.reverse()\n",
    "print(a)\n",
    "\n",
    "def sentence(n):\n",
    "    return n % 2\n",
    "a.sort(key = sentence)\n",
    "print(a)\n",
    "\n",
    "\n"
   ]
  },
  {
   "cell_type": "code",
   "execution_count": 62,
   "metadata": {},
   "outputs": [
    {
     "name": "stdout",
     "output_type": "stream",
     "text": [
      "['wrong', 'right']\n",
      "['wrong', 'right']\n",
      "['wrong', 'right']\n"
     ]
    }
   ],
   "source": [
    "a = ['wrong', 'right']\n",
    "b = a.copy()\n",
    "print(a)\n",
    "print(b)\n",
    "\n",
    "c = a[:]\n",
    "print(c)"
   ]
  },
  {
   "cell_type": "code",
   "execution_count": 63,
   "metadata": {},
   "outputs": [
    {
     "name": "stdout",
     "output_type": "stream",
     "text": [
      "[23, 31, 53, 1, 'carrot', 'cucumber', 'eggplant']\n"
     ]
    }
   ],
   "source": [
    "list1 = [23, 31, 53, 1]\n",
    "list2 = ['carrot', 'cucumber', 'eggplant']\n",
    "list3 = list1 + list2\n",
    "print(list3)"
   ]
  },
  {
   "cell_type": "code",
   "execution_count": 65,
   "metadata": {},
   "outputs": [
    {
     "name": "stdout",
     "output_type": "stream",
     "text": [
      "('tiger', 'lion', 'eagle')\n",
      "3\n",
      "<class 'tuple'>\n",
      "<class 'str'>\n"
     ]
    }
   ],
   "source": [
    "# Tuples\n",
    "\n",
    "sometuple = ('tiger', 'lion', 'eagle')\n",
    "print(sometuple)\n",
    "print(len(sometuple))\n",
    "\n",
    "trueTUPLE = ('apple',)\n",
    "wrongTUPLE = ('apple')\n",
    "print(type(trueTUPLE))\n",
    "print(type(wrongTUPLE))"
   ]
  },
  {
   "cell_type": "code",
   "execution_count": 67,
   "metadata": {},
   "outputs": [
    {
     "name": "stdout",
     "output_type": "stream",
     "text": [
      "(42, 'apple', True, 213, 23, False, 'dogie')\n",
      "True\n"
     ]
    }
   ],
   "source": [
    "anydata = (42, 'apple', True, 213, 23, False, 'dogie')\n",
    "print(anydata)\n",
    "print(anydata[2])"
   ]
  },
  {
   "cell_type": "code",
   "execution_count": 10,
   "metadata": {},
   "outputs": [
    {
     "name": "stdout",
     "output_type": "stream",
     "text": [
      "apple\n",
      "banana\n",
      "cherry\n"
     ]
    }
   ],
   "source": [
    "fruits = (\"apple\", \"banana\", \"cherry\")\n",
    "\n",
    "(green, yellow, red) = fruits\n",
    "\n",
    "print(green)\n",
    "print(yellow)\n",
    "print(red)"
   ]
  },
  {
   "cell_type": "code",
   "execution_count": 11,
   "metadata": {},
   "outputs": [
    {
     "name": "stdout",
     "output_type": "stream",
     "text": [
      "apple\n",
      "['banana']\n",
      "cherry\n"
     ]
    }
   ],
   "source": [
    "fruits = (\"apple\", \"banana\", \"cherry\")\n",
    "\n",
    "(green, *yellow, red) = fruits\n",
    "\n",
    "print(green)\n",
    "print(yellow)\n",
    "print(red)"
   ]
  },
  {
   "cell_type": "code",
   "execution_count": 12,
   "metadata": {},
   "outputs": [
    {
     "name": "stdout",
     "output_type": "stream",
     "text": [
      "{1, 2, 3, 4}\n"
     ]
    }
   ],
   "source": [
    "myset = {1,2,3,3,3,4}\n",
    "print(myset)"
   ]
  },
  {
   "cell_type": "code",
   "execution_count": 15,
   "metadata": {},
   "outputs": [
    {
     "name": "stdout",
     "output_type": "stream",
     "text": [
      "{True}\n",
      "{False}\n"
     ]
    }
   ],
   "source": [
    "myset = {True, 1}\n",
    "print(myset)\n",
    "\n",
    "newset = {False, 0}\n",
    "print(newset)"
   ]
  },
  {
   "cell_type": "code",
   "execution_count": 18,
   "metadata": {},
   "outputs": [
    {
     "name": "stdout",
     "output_type": "stream",
     "text": [
      "False\n",
      "True\n"
     ]
    }
   ],
   "source": [
    "fruits = {'apple', 'banana', 'peach'}\n",
    "print('apple' not  in fruits)\n",
    "print('banana' in fruits)"
   ]
  },
  {
   "cell_type": "code",
   "execution_count": 20,
   "metadata": {},
   "outputs": [
    {
     "name": "stdout",
     "output_type": "stream",
     "text": [
      "{'mb)', 'idk', 'idc', 'yes', 'no'}\n",
      "{'mb)', 'idk', 'idc', 'YEEAHH', 'yes', 'no'}\n"
     ]
    }
   ],
   "source": [
    "myset = {'yes', 'no', 'idk', 'idc', 'mb)'}\n",
    "print(myset)\n",
    "myset.add('YEEAHH')\n",
    "print(myset)"
   ]
  },
  {
   "cell_type": "code",
   "execution_count": 21,
   "metadata": {},
   "outputs": [
    {
     "name": "stdout",
     "output_type": "stream",
     "text": [
      "{'word', 'to', 'another', 'words', 'add', 'i like', 'random'}\n"
     ]
    }
   ],
   "source": [
    "set1 = {'random', 'words', 'i like'}\n",
    "set2 = {'another', 'word', 'to', 'add'}\n",
    "\n",
    "set1.update(set2)\n",
    "print(set1)"
   ]
  },
  {
   "cell_type": "code",
   "execution_count": 22,
   "metadata": {},
   "outputs": [
    {
     "name": "stdout",
     "output_type": "stream",
     "text": [
      "{321, 1, 'evil', 'OMG', 'boo', 'scary', 23}\n"
     ]
    }
   ],
   "source": [
    "myset = {1, 321, 23, 'OMG'}\n",
    "mylist = ['evil', 'scary', 'boo']\n",
    "\n",
    "myset.update(mylist)\n",
    "print(myset)"
   ]
  },
  {
   "cell_type": "code",
   "execution_count": 23,
   "metadata": {},
   "outputs": [
    {
     "name": "stdout",
     "output_type": "stream",
     "text": [
      "{'stuff', 'random'}\n"
     ]
    }
   ],
   "source": [
    "removeset = {'some', 'random', 'stuff'}\n",
    "removeset.remove('some')      #it will provide an error if the item doesnt exists\n",
    "print(removeset)"
   ]
  },
  {
   "cell_type": "code",
   "execution_count": 24,
   "metadata": {},
   "outputs": [
    {
     "name": "stdout",
     "output_type": "stream",
     "text": [
      "{'remove', 'better', 'method'}\n"
     ]
    }
   ],
   "source": [
    "better = {'better', 'method', 'to', 'remove'}\n",
    "better.discard('to')\n",
    "better.discard('error')      # No error will appear\n",
    "print(better)"
   ]
  },
  {
   "cell_type": "code",
   "execution_count": 3,
   "metadata": {},
   "outputs": [
    {
     "name": "stdout",
     "output_type": "stream",
     "text": [
      "{'key1': 'word', 'key2': 'other word', 'key3': 12345}\n",
      "word\n",
      "other word\n",
      "12345\n"
     ]
    }
   ],
   "source": [
    "# Dictionaries \n",
    "\n",
    "newdict = {\n",
    "    \"key1\" : \"word\",\n",
    "    \"key2\" : \"other word\",\n",
    "    \"key3\" : 12345\n",
    "}\n",
    "\n",
    "print(newdict)\n",
    "print(newdict[\"key1\"]) \n",
    "print(newdict[\"key2\"])\n",
    "print(newdict[\"key3\"])"
   ]
  },
  {
   "cell_type": "code",
   "execution_count": 6,
   "metadata": {},
   "outputs": [
    {
     "name": "stdout",
     "output_type": "stream",
     "text": [
      "754\n",
      "2\n"
     ]
    }
   ],
   "source": [
    "duplicate = {\n",
    "    \"key1\" : 321,\n",
    "    \"key2\" : 923,\n",
    "    \"key1\" : 754\n",
    "}\n",
    "\n",
    "print(duplicate[\"key1\"])  \n",
    "print(len(duplicate))  "
   ]
  },
  {
   "cell_type": "code",
   "execution_count": 7,
   "metadata": {},
   "outputs": [
    {
     "name": "stdout",
     "output_type": "stream",
     "text": [
      "[132, 'Cat', 'Dog', 886]\n"
     ]
    }
   ],
   "source": [
    "longdict = {\n",
    "    \"key1\" : \"value\",\n",
    "    \"key2\" : \"value2\",\n",
    "    \"key3\" : [132, \"Cat\", \"Dog\", 886] \n",
    "}\n",
    "print(longdict[\"key3\"])"
   ]
  },
  {
   "cell_type": "code",
   "execution_count": 21,
   "metadata": {},
   "outputs": [
    {
     "name": "stdout",
     "output_type": "stream",
     "text": [
      "{'name': 'Miroslav', 'age': 18, 'country': 'Kazakhstan'}\n",
      "18\n",
      "Miroslav\n",
      "dict_keys(['name', 'age', 'country'])\n",
      "dict_values(['Miroslav', 18, 'Kazakhstan'])\n",
      "dict_values(['Miroslav', 19, 'Kazakhstan'])\n",
      "dict_items([('name', 'Miroslav'), ('age', 19), ('country', 'Kazakhstan')])\n",
      "dict_items([('name', 'Igor'), ('age', 19), ('country', 'Kazakhstan')])\n",
      "{'name': 'Igor', 'age': 19, 'country': 'Kazakhstan', 'nationality': 'Ukranian'}\n",
      "{'age': 19, 'country': 'Kazakhstan', 'nationality': 'Ukranian'}\n",
      "{'age': 19, 'country': 'Kazakhstan'}\n",
      "{}\n"
     ]
    }
   ],
   "source": [
    "card = dict(name = \"Miroslav\", age = 18, country = \"Kazakhstan\")\n",
    "print(card)\n",
    "print(card[\"age\"])\n",
    "\n",
    "x = card.get('name')\n",
    "print(x)\n",
    "\n",
    "y = card.keys()\n",
    "print(y)\n",
    "\n",
    "z = card.values()\n",
    "print(z)\n",
    "\n",
    "card['age'] = 19\n",
    "print(z)\n",
    "\n",
    "g = card.items()\n",
    "print(g)\n",
    "\n",
    "card.update({'name' : 'Igor'})\n",
    "print(g)\n",
    "\n",
    "\n",
    "card['nationality'] = 'Ukranian'\n",
    "print(card)\n",
    "\n",
    "card.pop('name')\n",
    "print(card)\n",
    "\n",
    "card.popitem()    #removing last added item\n",
    "print(card)\n",
    "\n",
    "\n",
    "# del(card) will delete whole dictionary \n",
    "\n",
    "card.clear()\n",
    "print(card)\n",
    "\n",
    "\n"
   ]
  },
  {
   "cell_type": "code",
   "execution_count": 25,
   "metadata": {},
   "outputs": [
    {
     "name": "stdout",
     "output_type": "stream",
     "text": [
      "number\n",
      "word\n",
      "fruits\n",
      "231\n",
      "KBTU\n",
      "['apple', 'peach', 'banana']\n",
      "231\n",
      "KBTU\n",
      "['apple', 'peach', 'banana']\n",
      "number\n",
      "word\n",
      "fruits\n",
      "number 231\n",
      "word KBTU\n",
      "fruits ['apple', 'peach', 'banana']\n"
     ]
    }
   ],
   "source": [
    "newdict = {\n",
    "    'number' : 231,\n",
    "    'word' : 'KBTU',\n",
    "    'fruits' : ['apple', 'peach', 'banana']\n",
    "}\n",
    "\n",
    "for i in newdict:\n",
    "    print(i)             # for keys\n",
    "\n",
    "for x in newdict:\n",
    "    print(newdict[x])\n",
    "\n",
    "for j in newdict.values():\n",
    "    print(j)\n",
    "\n",
    "for a in newdict.keys():\n",
    "    print(a)\n",
    "\n",
    "for c, s in newdict.items():\n",
    "    print(c, s)"
   ]
  },
  {
   "cell_type": "code",
   "execution_count": 30,
   "metadata": {},
   "outputs": [
    {
     "name": "stdout",
     "output_type": "stream",
     "text": [
      "{'child1': {'name': 'Anya', 'age': 14}, 'child2': {'name': 'Igor', 'age': 11}, 'child3': {'name': 'John', 'age': 21}}\n",
      "{'name': 'John', 'age': 21}\n",
      "14\n"
     ]
    }
   ],
   "source": [
    "# Nested dict\n",
    "\n",
    "WholeFamily = {\n",
    "    'child1' : {\n",
    "        'name' : 'Anya',\n",
    "        'age' : 14\n",
    "    },\n",
    "    'child2' : {\n",
    "        'name' : 'Igor',\n",
    "        'age' : 11\n",
    "    },\n",
    "    'child3' : {\n",
    "        'name' : 'John',\n",
    "        'age' : 21\n",
    "    }\n",
    "}\n",
    "\n",
    "print(WholeFamily)\n",
    "\n",
    "print(WholeFamily['child3'])\n",
    "\n",
    "print(WholeFamily['child1']['age'])"
   ]
  },
  {
   "cell_type": "code",
   "execution_count": 32,
   "metadata": {},
   "outputs": [
    {
     "name": "stdout",
     "output_type": "stream",
     "text": [
      "{'zoo': {'lions': 5, 'wolves': 12, 'foxes': 4}, 'worker1': {'name': 'John', 'age': 23, 'exp': '2 years'}, 'worker2': {'name': 'Alex', 'age': 31, 'exp': '5 years'}}\n",
      "zoo\n",
      "worker1\n",
      "worker2\n",
      "name: Alex\n",
      "age: 31\n",
      "exp: 5 years\n"
     ]
    }
   ],
   "source": [
    "zoo = {\n",
    "    'lions' : 5,\n",
    "    'wolves' : 12,\n",
    "    'foxes' : 4\n",
    "}\n",
    "\n",
    "worker1  = {\n",
    "    'name' : 'John',\n",
    "    'age' : 23,\n",
    "    'exp' : '2 years'\n",
    "}\n",
    "\n",
    "worker2 = {\n",
    "    'name' : 'Alex',\n",
    "    'age' : 31,\n",
    "    'exp' : '5 years'\n",
    "}\n",
    "\n",
    "place = {\n",
    "    'zoo' : zoo,\n",
    "    'worker1' : worker1,\n",
    "    'worker2' : worker2\n",
    "}\n",
    "\n",
    "print(place)\n",
    "\n",
    "for x, obj in place.items():\n",
    "    print(x)\n",
    "\n",
    "for y in obj:\n",
    "    print(y + ':', obj[y])"
   ]
  },
  {
   "cell_type": "code",
   "execution_count": 34,
   "metadata": {},
   "outputs": [
    {
     "name": "stdout",
     "output_type": "stream",
     "text": [
      "31 is less than 122\n"
     ]
    }
   ],
   "source": [
    "# If else\n",
    "\n",
    "a = 31\n",
    "b = 122\n",
    "if a < b:\n",
    "    print(a, \"is less than\", b)"
   ]
  },
  {
   "cell_type": "code",
   "execution_count": 35,
   "metadata": {},
   "outputs": [
    {
     "name": "stdout",
     "output_type": "stream",
     "text": [
      "411 is greater than 222\n"
     ]
    }
   ],
   "source": [
    "a = 411\n",
    "b = 222\n",
    "\n",
    "if a < b:\n",
    "    print(a, 'is less than', b)\n",
    "elif a > b:\n",
    "    print(a, 'is greater than', b)\n",
    "else:\n",
    "    print(a, 'is equal to', b)"
   ]
  },
  {
   "cell_type": "code",
   "execution_count": 36,
   "metadata": {},
   "outputs": [
    {
     "name": "stdout",
     "output_type": "stream",
     "text": [
      "33 is equal to 33\n"
     ]
    }
   ],
   "source": [
    "a = 33\n",
    "b = 33\n",
    "\n",
    "if a == b: print(a, 'is equal to', b)"
   ]
  },
  {
   "cell_type": "code",
   "execution_count": 37,
   "metadata": {},
   "outputs": [
    {
     "name": "stdout",
     "output_type": "stream",
     "text": [
      "13\n"
     ]
    }
   ],
   "source": [
    "a = 12\n",
    "b = 13\n",
    "\n",
    "print(a) if a > b else print(b)"
   ]
  },
  {
   "cell_type": "code",
   "execution_count": 38,
   "metadata": {},
   "outputs": [
    {
     "name": "stdout",
     "output_type": "stream",
     "text": [
      "=\n"
     ]
    }
   ],
   "source": [
    "a = 112\n",
    "b = 112\n",
    "\n",
    "print('a') if a > b else print('b') if a < b else print('=')"
   ]
  },
  {
   "cell_type": "code",
   "execution_count": 44,
   "metadata": {},
   "outputs": [
    {
     "name": "stdout",
     "output_type": "stream",
     "text": [
      "Both true\n",
      "One is true\n",
      "Not true\n"
     ]
    }
   ],
   "source": [
    "a = 312\n",
    "b = 1\n",
    "c = 64\n",
    "\n",
    "if a > b and c < a:\n",
    "    print(\"Both true\")\n",
    "\n",
    "if a < b or a > c:\n",
    "    print('One is true')\n",
    "\n",
    "if not a < b:\n",
    "    print('Not true')"
   ]
  },
  {
   "cell_type": "code",
   "execution_count": 45,
   "metadata": {},
   "outputs": [
    {
     "name": "stdout",
     "output_type": "stream",
     "text": [
      "More\n",
      "More\n",
      "Not above 40\n"
     ]
    }
   ],
   "source": [
    "num = 32\n",
    "\n",
    "if num > 10:\n",
    "    print(\"More\")\n",
    "    if num > 20:\n",
    "        print('More')\n",
    "        if num > 40:\n",
    "            print('More')\n",
    "        else:\n",
    "            print('Not above 40')"
   ]
  },
  {
   "cell_type": "code",
   "execution_count": 47,
   "metadata": {},
   "outputs": [
    {
     "name": "stdout",
     "output_type": "stream",
     "text": [
      "1\n"
     ]
    }
   ],
   "source": [
    "a = 1\n",
    "b = 2\n",
    "\n",
    "if a > b:\n",
    "    pass\n",
    "\n",
    "print(a)"
   ]
  },
  {
   "cell_type": "code",
   "execution_count": 49,
   "metadata": {},
   "outputs": [
    {
     "name": "stdout",
     "output_type": "stream",
     "text": [
      "1\n",
      "2\n",
      "3\n",
      "4\n",
      "5\n",
      "6\n",
      "7\n",
      "8\n",
      "9\n",
      "10\n"
     ]
    }
   ],
   "source": [
    "# While loop\n",
    "a = 1\n",
    "\n",
    "while a < 11:\n",
    "    print(a)\n",
    "    a += 1\n"
   ]
  },
  {
   "cell_type": "code",
   "execution_count": 50,
   "metadata": {},
   "outputs": [
    {
     "name": "stdout",
     "output_type": "stream",
     "text": [
      "1\n",
      "2\n",
      "3\n",
      "4\n",
      "5\n"
     ]
    }
   ],
   "source": [
    "i = 1\n",
    "while i < 11:\n",
    "    print(i)\n",
    "    if i == 5:\n",
    "        break\n",
    "    i += 1"
   ]
  },
  {
   "cell_type": "code",
   "execution_count": 54,
   "metadata": {},
   "outputs": [
    {
     "name": "stdout",
     "output_type": "stream",
     "text": [
      "1\n",
      "2\n",
      "4\n",
      "5\n",
      "6\n",
      "7\n",
      "8\n",
      "9\n",
      "10\n"
     ]
    }
   ],
   "source": [
    "i = 0\n",
    "while i < 10:\n",
    "    i += 1\n",
    "    if i == 3:\n",
    "        continue\n",
    "    print(i)"
   ]
  },
  {
   "cell_type": "code",
   "execution_count": 55,
   "metadata": {},
   "outputs": [
    {
     "name": "stdout",
     "output_type": "stream",
     "text": [
      "BMW\n",
      "Mercedes\n",
      "Porsche\n"
     ]
    }
   ],
   "source": [
    "# For loop\n",
    "\n",
    "cars = ['BMW', 'Mercedes', 'Porsche']\n",
    "for i in cars:\n",
    "    print(i)"
   ]
  },
  {
   "cell_type": "code",
   "execution_count": 57,
   "metadata": {},
   "outputs": [
    {
     "name": "stdout",
     "output_type": "stream",
     "text": [
      "O\n",
      "n\n",
      "l\n",
      "i\n",
      "n\n",
      "e\n",
      " \n"
     ]
    }
   ],
   "source": [
    "word = 'Online KBTU is stressful'\n",
    "\n",
    "for letter in word:\n",
    "    print(letter)\n",
    "    if letter == ' ':\n",
    "        break"
   ]
  },
  {
   "cell_type": "code",
   "execution_count": 61,
   "metadata": {},
   "outputs": [
    {
     "name": "stdout",
     "output_type": "stream",
     "text": [
      "0\n",
      "25\n",
      "50\n",
      "75\n",
      "100\n"
     ]
    }
   ],
   "source": [
    "for x in range(0, 101, 25):\n",
    "    print(x)"
   ]
  },
  {
   "cell_type": "code",
   "execution_count": 63,
   "metadata": {},
   "outputs": [
    {
     "name": "stdout",
     "output_type": "stream",
     "text": [
      "1 1\n",
      "1 2\n",
      "1 3\n",
      "2 1\n",
      "2 2\n",
      "2 3\n",
      "3 1\n",
      "3 2\n",
      "3 3\n"
     ]
    }
   ],
   "source": [
    "for i in range(1, 4):\n",
    "    for j in range(1, 4):\n",
    "        print(i, j)"
   ]
  }
 ],
 "metadata": {
  "kernelspec": {
   "display_name": "Python 3",
   "language": "python",
   "name": "python3"
  },
  "language_info": {
   "codemirror_mode": {
    "name": "ipython",
    "version": 3
   },
   "file_extension": ".py",
   "mimetype": "text/x-python",
   "name": "python",
   "nbconvert_exporter": "python",
   "pygments_lexer": "ipython3",
   "version": "3.13.1"
  }
 },
 "nbformat": 4,
 "nbformat_minor": 2
}
